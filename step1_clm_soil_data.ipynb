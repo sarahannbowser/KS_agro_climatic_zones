{
 "cells": [
  {
   "cell_type": "markdown",
   "id": "aa2ed9b9-e402-44fa-afbe-53380f43df2c",
   "metadata": {
    "tags": []
   },
   "source": [
    "# Preprocessing of Climate and Environment Data\n",
    "This notebook loads raster data for climate and environmental data important to cropping production. Data is processed for an area of interest, and downscaled to a common spatial grid. Data are exported as a csv file. "
   ]
  },
  {
   "cell_type": "code",
   "execution_count": 1,
   "id": "a125516b-f755-4089-9f9d-316e5e4796b7",
   "metadata": {},
   "outputs": [],
   "source": [
    "from process_functions import * \n",
    "import pandas as pd"
   ]
  },
  {
   "cell_type": "markdown",
   "id": "9b7c90c1-dd16-4969-8a47-838d700288c0",
   "metadata": {},
   "source": [
    "**Description of Raw Data**\n",
    "1. Climate Data is obtained from the PRISM Climate Group.\\\n",
    "    a. 30-yr normals for the period of 1991-2020 \\\n",
    "    b. 800m resolution \\\n",
    "    c. Variables of mean annual temperature, mean total annual precipitation, and mean elevation which is used for a common grid reference \\\n",
    "    d. Data and metadata are availabe at https://prism.oregonstate.edu/normals/ \n",
    "2. Soil data is obtained from UC Davis compilation of SSURGO NRCS \\\n",
    "    a. SSURGO http://www.nrcs.usda.gov/wps/portal/nrcs/detail/soils/survey/?cid=nrcs142p2_053627 \\\n",
    "    b. 800m resolution \\\n",
    "    c. Variables of soil texture for 0-25 cm and 25 - 50 cm, plant available water content from 0-50 cm, and organic matter in kg/m2 \\\n",
    "    d. Data and metadata are available at https://casoilresource.lawr.ucdavis.edu/soil-properties/download.php\n",
    "3. Climate Data for Reference Evapotranspiration (ET0) is obtained from TERRACLIMATE \\\n",
    "    a. ET0 is provided as a 30-year monthly summary for the period of 1991-2020 as a compressed netCDF file \\\n",
    "    b. ~4 km resolution \\\n",
    "    b. ET0 is a derived data set and available at https://www.climatologylab.org/terraclimate.html \n",
    " \n",
    "    \n",
    "**Description of Processed Data**\n",
    "1. Read each unique raster file. \n",
    "2. Reproject to common crs\n",
    "3. Clip to the outer most bounds of Kansas\n",
    "4. Rescale to common grid\n",
    "5. Calculate Values for depth and croplayer\n",
    "6. Export array as a CSV "
   ]
  },
  {
   "cell_type": "markdown",
   "id": "a7f192f8-2968-4abb-a55e-56c0de03e142",
   "metadata": {},
   "source": [
    "**Read each unique file name and generate lists of file names**"
   ]
  },
  {
   "cell_type": "code",
   "execution_count": 2,
   "id": "f61160df-606e-46f4-91c7-493e42dd51e3",
   "metadata": {},
   "outputs": [],
   "source": [
    "# Soil Files \n",
    "paws_050 = \"C:/Users/sarahann.USERS/Desktop/code/ks_agro_climate/paws_050.tif\"\n",
    "om_kg_sq_m = \"C:/Users/sarahann.USERS/Desktop/code/ks_agro_climate/om_kg_sq_m.tif\"\n",
    "depth= \"C:/Users/sarahann.USERS/Desktop/code/ks_agro_climate/soil_depth.tif\"\n",
    "depth_restriction=\"C:/Users/sarahann.USERS/Desktop/code/ks_agro_climate/resdept.tif\"\n",
    "\n",
    "# TerraClimate File \n",
    "pet = \"C:/Users/sarahann.USERS/Desktop/code/ks_agro_climate/pet_ks.tif\" # included in soil file list as this needs reprojected to common crs\n",
    "\n",
    "soil_files = [ paws_050, om_kg_sq_m, depth, depth_restriction, pet] \n",
    "soil_files_str = ['paws_050', 'om_kg_sq_m', 'depth', 'dep_res', 'pet'] \n",
    "\n",
    "# Climate Files\n",
    "precip=\"C:/Users/sarahann.USERS/Desktop/code/ks_agro_climate/PRISM_ppt_30yr_normal_800mM3_annual_bil.bil\"\n",
    "temp=\"C:/Users/sarahann.USERS/Desktop/code/ks_agro_climate/PRISM_tmean_30yr_normal_800mM3_annual_bil.bil\"\n",
    "elv=\"C:/Users/sarahann.USERS/Desktop/code/ks_agro_climate/PRISM_us_dem_800m_bil.bil\"\n",
    "\n",
    "prism_files = [precip, temp, elv]\n",
    "prism_files_str = ['precip', 'temp', 'elv']"
   ]
  },
  {
   "cell_type": "code",
   "execution_count": 3,
   "id": "61c7bc7c-cd8d-4b9e-a354-0e97b022a1a4",
   "metadata": {},
   "outputs": [],
   "source": [
    "# Update projection for files without 4326 and rename in the file list\n",
    "\n",
    "new_crs = 'EPSG:4326'\n",
    "\n",
    "for(i,j) in zip(soil_files, soil_files_str):\n",
    "    reproject_file(i,j, new_crs)\n",
    "\n",
    "# Update file names\n",
    "soil_files = ['C:/Users/sarahann.USERS/Desktop/code/ks_agro_climate/'+i+'_wgs84.tif' for i in soil_files_str]           "
   ]
  },
  {
   "cell_type": "code",
   "execution_count": 4,
   "id": "f6bfbf5b-1648-42ae-8e52-c21e47c7ed14",
   "metadata": {},
   "outputs": [],
   "source": [
    "# Crop to Shape to outer most bounds of Kansas\n",
    "\n",
    "# Soil Data\n",
    "for(i,j) in zip(soil_files, soil_files_str):\n",
    "    crop_to_shape(i,j)\n",
    "\n",
    "soil_files = ['C:/Users/sarahann.USERS/Desktop/code/ks_agro_climate/'+i+'_wgs84_ks.tif'for i in soil_files_str] # Update file names\n",
    "   \n",
    "# Prism Data\n",
    "for(i,j) in zip(prism_files, prism_files_str):\n",
    "    crop_to_shape(i,j)\n",
    "\n",
    "prism_files = ['C:/Users/sarahann.USERS/Desktop/code/ks_agro_climate/'+i+'_wgs84_ks.tif' for i in prism_files_str]"
   ]
  },
  {
   "cell_type": "code",
   "execution_count": 5,
   "id": "41ffc778-effc-4b2e-bd65-9b66f38d247a",
   "metadata": {},
   "outputs": [
    {
     "name": "stdout",
     "output_type": "stream",
     "text": [
      "(362, 896)\n"
     ]
    }
   ],
   "source": [
    "# Use one map as the template for the other maps.\n",
    "# PRISM Elevation is a standard 800m grid product\n",
    "template = rasterio.open('C:/Users/sarahann.USERS/Desktop/code/ks_agro_climate/elv_wgs84_ks.tif').read(1)\n",
    "print(template.shape)\n",
    "new_width = template.shape[1]\n",
    "new_height = template.shape[0]"
   ]
  },
  {
   "cell_type": "code",
   "execution_count": 6,
   "id": "b3e5a729-6bfa-40dd-92bd-6b8ca23b277f",
   "metadata": {},
   "outputs": [],
   "source": [
    "# Rescale to common spatial grid based on elevation grid\n",
    "\n",
    "#Soil Data \n",
    "for(i,j) in zip(soil_files, soil_files_str):\n",
    "    rescale_map(i,j, new_width, new_height, 'cubic')\n",
    "\n",
    "soil_files = ['C:/Users/sarahann.USERS/Desktop/code/ks_agro_climate/'+i+'_wgs84_ks_scaled.tif'for i in soil_files_str] # Update file names\n",
    "\n",
    "# Prism Data\n",
    "for(i,j) in zip(prism_files, prism_files_str):\n",
    "    rescale_map(i,j, new_width, new_height, 'cubic')\n",
    "\n",
    "prism_files = ['C:/Users/sarahann.USERS/Desktop/code/ks_agro_climate/'+i+'_wgs84_ks_scaled.tif' for i in prism_files_str]"
   ]
  },
  {
   "cell_type": "code",
   "execution_count": 7,
   "id": "31e5429c-90c7-45a5-a515-df7ab52e84d1",
   "metadata": {},
   "outputs": [],
   "source": [
    "# Elevation was only used as a template and is not retained for further processing\n",
    "prism_files.remove('C:/Users/sarahann.USERS/Desktop/code/ks_agro_climate/elv_wgs84_ks_scaled.tif')\n",
    "prism_files_str.remove('elv')"
   ]
  },
  {
   "cell_type": "code",
   "execution_count": 8,
   "id": "e30b2aff-3ce2-44a2-b6f0-85f1010fd240",
   "metadata": {},
   "outputs": [],
   "source": [
    "# Generate a single string and file name list \n",
    "strings = soil_files_str + prism_files_str \n",
    "files = soil_files + prism_files "
   ]
  },
  {
   "cell_type": "code",
   "execution_count": 9,
   "id": "3e7b8c2f-1832-4a01-9508-8ea0fdac64e4",
   "metadata": {},
   "outputs": [],
   "source": [
    "# Open each file and read into a dictionary\n",
    "variables = {}\n",
    "\n",
    "for s, f in zip(strings, files):\n",
    "    variables[s] = rasterio.open(f).read(1)"
   ]
  },
  {
   "cell_type": "markdown",
   "id": "6ecd735f-e4a3-4db7-a882-5cd83d222055",
   "metadata": {},
   "source": [
    "**Data and Variable Cleaning**\n",
    "1. Generate depth variable that is the lesser of restricted depth, 150, or actual depth\n",
    "2. Generate a crop layer variable and non crop layer variable"
   ]
  },
  {
   "cell_type": "code",
   "execution_count": 10,
   "id": "110a7a60-dabc-482a-82ca-0e7f0a514bea",
   "metadata": {},
   "outputs": [
    {
     "data": {
      "text/plain": [
       "array([[      nan,       nan,       nan, ...,       nan,       nan,\n",
       "              nan],\n",
       "       [      nan, 35.64532 , 47.12787 , ...,       nan,       nan,\n",
       "              nan],\n",
       "       [      nan, 35.64532 , 57.482594, ...,       nan,       nan,\n",
       "              nan],\n",
       "       ...,\n",
       "       [      nan,       nan,       nan, ...,       nan,       nan,\n",
       "              nan],\n",
       "       [      nan,       nan,       nan, ...,       nan,       nan,\n",
       "              nan],\n",
       "       [      nan,       nan,       nan, ...,       nan,       nan,\n",
       "              nan]], dtype=float32)"
      ]
     },
     "execution_count": 10,
     "metadata": {},
     "output_type": "execute_result"
    }
   ],
   "source": [
    "#Call numpy.where(condition, x, y) to replace values that meet condition with x, and those that do not with y.\n",
    "variables['dep_res']= np.where(variables['dep_res'] < 0, np.nan, variables['dep_res'])\n",
    "variables['depth']= np.where(variables['depth'] < 0, np.nan, variables['depth'])\n",
    "\n",
    "variables['depth_adj']= np.where(variables['dep_res'] < variables['depth'],  variables['dep_res'],  variables['depth'])\n",
    "variables['depth_adj']= np.where(variables['depth_adj'] > 150,  150,  variables['depth_adj'] ) # set all values to no higher than 150 cm depth (max effective root zone)\n",
    "\n",
    "variables.pop('depth') # remove from the list\n",
    "variables.pop('dep_res') # remove from the list "
   ]
  },
  {
   "cell_type": "code",
   "execution_count": 11,
   "id": "832066b4-4e33-47ee-a02e-21a8b6ef7620",
   "metadata": {},
   "outputs": [],
   "source": [
    "# For all variables that are a nan value [-9999] set to nan. \n",
    "for k in variables: \n",
    "    mask = (variables[k] <= 0)\n",
    "    variables[k][mask] = np.nan"
   ]
  },
  {
   "cell_type": "markdown",
   "id": "06f668a2-284f-47b7-9f99-a78657ab3c42",
   "metadata": {},
   "source": [
    "**Export Data as a CSV**"
   ]
  },
  {
   "cell_type": "code",
   "execution_count": 12,
   "id": "ebf1e60f-87cd-42e7-a755-b81b2006f37a",
   "metadata": {},
   "outputs": [],
   "source": [
    "df = pd.DataFrame({k:list(v.flatten()) for k,v in variables.items()})\n",
    "df.to_csv('variables.csv')"
   ]
  }
 ],
 "metadata": {
  "kernelspec": {
   "display_name": "Python 3 (ipykernel)",
   "language": "python",
   "name": "python3"
  },
  "language_info": {
   "codemirror_mode": {
    "name": "ipython",
    "version": 3
   },
   "file_extension": ".py",
   "mimetype": "text/x-python",
   "name": "python",
   "nbconvert_exporter": "python",
   "pygments_lexer": "ipython3",
   "version": "3.9.13"
  }
 },
 "nbformat": 4,
 "nbformat_minor": 5
}
