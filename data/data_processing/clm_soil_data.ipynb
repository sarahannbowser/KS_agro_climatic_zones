{
 "cells": [
  {
   "cell_type": "markdown",
   "id": "aa2ed9b9-e402-44fa-afbe-53380f43df2c",
   "metadata": {},
   "source": [
    "# Preprocessing of Climate and Environment Data\n",
    "This notebook loads raster data for climate and environmental data important to cropping production. Data is processed for an area of interest, and downscaled to a common spatial grid. Data are exported as a shape file and csv file. "
   ]
  },
  {
   "cell_type": "code",
   "execution_count": 1,
   "id": "e356920b-563b-433d-a494-53d4d453ad1b",
   "metadata": {},
   "outputs": [],
   "source": [
    "import pandas as pd\n",
    "import geopandas as gpd \n",
    "from osgeo import gdal, ogr, osr, os\n",
    "import numpy as np\n",
    "from tobler.area_weighted import area_interpolate\n",
    "import rioxarray as rxr\n",
    "from shapely.geometry import mapping\n",
    "from functools import reduce\n",
    "\n",
    "import matplotlib.pyplot as plt"
   ]
  },
  {
   "cell_type": "markdown",
   "id": "9b7c90c1-dd16-4969-8a47-838d700288c0",
   "metadata": {},
   "source": [
    "**Description of Raw Data**\n",
    "1. Climate Data is obtained from the PRISM Climate Group.\\\n",
    "    a. 30-yr normals for the period of 1991-2020 \\\n",
    "    b. 800m resolution \\\n",
    "    c. Variables of mean annual temperature, mean total annual precipitation, and mean elevation which is used for a common grid reference \\\n",
    "    d. Data and metadata are availabe at https://prism.oregonstate.edu/normals/ \n",
    "2. Soil data is obtained from UC Davis compilation of SSURGO NRCS \\\n",
    "    a. SSURGO http://www.nrcs.usda.gov/wps/portal/nrcs/detail/soils/survey/?cid=nrcs142p2_053627 \\\n",
    "    b. 800m resolution \\\n",
    "    c. Variables of soil texture for 0-25 cm and 25 - 50 cm, plant available water content from 0-50 cm, and organic matter in kg/m2 \\\n",
    "    d. Data and metadata are available at https://casoilresource.lawr.ucdavis.edu/soil-properties/download.php\n",
    "    \n",
    "**Description of Processed Data**\n",
    "1. Clip raster data to Kansas bounds (function clips to a rectangle, data will later be clipped to irregular bounds), set to common crs, and convert to vectorized shapefiles \n",
    "2. Read in all processed shapefiles and interpolate polygons to the finest polygon level (elevation)\n",
    "3. Merge all files on geometry\n",
    "4. Clip to irregular Kansas bounds \n",
    "5. Save processed data to a CSV and a shape file \n",
    "\n",
    "**Coding reference**\n",
    "1. EarthLab tutorial for raster to vector data transformations https://www.earthdatascience.org/courses/use-data-open-source-python/intro-vector-data-python/vector-data-processing/"
   ]
  },
  {
   "cell_type": "markdown",
   "id": "a7f192f8-2968-4abb-a55e-56c0de03e142",
   "metadata": {},
   "source": [
    "**Read in each shapefile and clip to Kansas boundary**"
   ]
  },
  {
   "cell_type": "code",
   "execution_count": 2,
   "id": "bc268c8d-3eb8-435d-9131-d1088c3f0a92",
   "metadata": {},
   "outputs": [
    {
     "data": {
      "text/plain": [
       "<Derived Projected CRS: EPSG:5070>\n",
       "Name: NAD83 / Conus Albers\n",
       "Axis Info [cartesian]:\n",
       "- X[east]: Easting (metre)\n",
       "- Y[north]: Northing (metre)\n",
       "Area of Use:\n",
       "- name: United States (USA) - CONUS onshore - Alabama; Arizona; Arkansas; California; Colorado; Connecticut; Delaware; Florida; Georgia; Idaho; Illinois; Indiana; Iowa; Kansas; Kentucky; Louisiana; Maine; Maryland; Massachusetts; Michigan; Minnesota; Mississippi; Missouri; Montana; Nebraska; Nevada; New Hampshire; New Jersey; New Mexico; New York; North Carolina; North Dakota; Ohio; Oklahoma; Oregon; Pennsylvania; Rhode Island; South Carolina; South Dakota; Tennessee; Texas; Utah; Vermont; Virginia; Washington; West Virginia; Wisconsin; Wyoming.\n",
       "- bounds: (-124.79, 24.41, -66.91, 49.38)\n",
       "Coordinate Operation:\n",
       "- name: Conus Albers\n",
       "- method: Albers Equal Area\n",
       "Datum: North American Datum 1983\n",
       "- Ellipsoid: GRS 1980\n",
       "- Prime Meridian: Greenwich"
      ]
     },
     "execution_count": 2,
     "metadata": {},
     "output_type": "execute_result"
    }
   ],
   "source": [
    "# Kansas Shape file to clip data sources. Load data and select Kansas state boundaries  \n",
    "fp= 'C:/Users/sarahann.USERS/Desktop/code/cb_2018_us_state_500k.shp' \n",
    "\n",
    "map_df = gpd.read_file(fp)\n",
    "ks_map = map_df.NAME.isin(['Kansas']) \n",
    "ks_map = map_df[ks_map].loc[0:]\n",
    "ks_map.to_crs(epsg=5070, inplace=True) \n",
    "ks_map.crs"
   ]
  },
  {
   "cell_type": "code",
   "execution_count": 8,
   "id": "7a8fcf47-bb74-4d3f-bb4f-0d35b1207228",
   "metadata": {},
   "outputs": [],
   "source": [
    "# File paths for PRISM data: precipitation, temperature and elevation\n",
    "precip=\"C:/Users/sarahann.USERS/Desktop/code/ks_agro_climate/PRISM_ppt_30yr_normal_800mM3_annual_bil.bil\"\n",
    "temp=\"C:/Users/sarahann.USERS/Desktop/code/ks_agro_climate/PRISM_tmean_30yr_normal_800mM3_annual_bil.bil\"\n",
    "elv=\"C:/Users/sarahann.USERS/Desktop/code/ks_agro_climate/PRISM_us_dem_800m_bil.bil\"\n",
    "elv_4km=\"C:/Users/sarahann.USERS/Desktop/code/ks_agro_climate/PRISM_us_dem_4km_bil.bil\"\n",
    "\n",
    "# File path for soil data\n",
    "paws_050 = \"C:/Users/sarahann.USERS/Desktop/code/ks_agro_climate/paws_050.tif\"\n",
    "om_kg_sq_m = \"C:/Users/sarahann.USERS/Desktop/code/ks_agro_climate/om_kg_sq_m.tif\"\n",
    "sand= \"C:/Users/sarahann.USERS/Desktop/code/ks_agro_climate/sand.tif\"\n",
    "silt= \"C:/Users/sarahann.USERS/Desktop/code/ks_agro_climate/silt.tif\"\n",
    "clay= \"C:/Users/sarahann.USERS/Desktop/code/ks_agro_climate/clay.tif\""
   ]
  },
  {
   "cell_type": "code",
   "execution_count": 9,
   "id": "5e38f287-a450-4d5a-b1a2-3e98918c92f9",
   "metadata": {},
   "outputs": [],
   "source": [
    "# Open all files, clip to Kansas Boundaries, and then save as a new tif \n",
    "# Note, this clip will clip to the farthest parameter edge. The final data, once interpolated will be clipped with geopandas to get the exact boundaries of Kansas. This is computationally expensive and is only done on the final output layer.\n",
    "\n",
    "files = [precip, temp, elv, elv_4km, paws_050, om_kg_sq_m, sand, silt, clay]\n",
    "files_str = ['precip', 'temp', 'elv', 'elv_4km','paws_050', 'om_kg_sq_m', 'sand', 'silt', 'clay']\n",
    "\n",
    "for i,j in zip(files, files_str):\n",
    "    x = rxr.open_rasterio(i).squeeze() # .squeeze removes a third dimension of 1 for band  and maintains a 2 dimension object\n",
    "    x = x.rio.reproject(ks_map.crs)\n",
    "    x=x.rio.clip(ks_map.geometry.apply(mapping),\n",
    "                                          # This is needed if your df is in a diff CRS than the raster data, which is the case for the soil data in 5070\n",
    "                                          ks_map.crs)\n",
    "    x.rio.to_raster('C:/Users/sarahann.USERS/Desktop/code/ks_agro_climate/'+j+'_ks_clip.tif')"
   ]
  },
  {
   "cell_type": "markdown",
   "id": "b631390b-3d12-438f-b775-71da4204ffbe",
   "metadata": {},
   "source": [
    "**Read each clipped shape tif (raster) and convert and save as a shape file (vector)**"
   ]
  },
  {
   "cell_type": "code",
   "execution_count": 10,
   "id": "ff58c236-f3f4-47e9-922e-2317ef886c42",
   "metadata": {},
   "outputs": [],
   "source": [
    "# File paths for PRISM data: precipitation, temperature and elevation clipped to Kansas \n",
    "precip=\"C:/Users/sarahann.USERS/Desktop/code/ks_agro_climate/precip_ks_clip.tif\"\n",
    "temp=\"C:/Users/sarahann.USERS/Desktop/code/ks_agro_climate/temp_ks_clip.tif\"\n",
    "elv=\"C:/Users/sarahann.USERS/Desktop/code/ks_agro_climate/elv_ks_clip.tif\"\n",
    "elv_4km=\"C:/Users/sarahann.USERS/Desktop/code/ks_agro_climate/elv_4km_ks_clip.tif\"\n",
    "\n",
    "# File path for soil data clipped to Kansas \n",
    "paws_050 = \"C:/Users/sarahann.USERS/Desktop/code/ks_agro_climate/paws_050_ks_clip.tif\"\n",
    "om_kg_sq_m = \"C:/Users/sarahann.USERS/Desktop/code/ks_agro_climate/om_kg_sq_m_ks_clip.tif\"\n",
    "sand = \"C:/Users/sarahann.USERS/Desktop/code/ks_agro_climate/sand_ks_clip.tif\"\n",
    "silt = \"C:/Users/sarahann.USERS/Desktop/code/ks_agro_climate/silt_ks_clip.tif\"\n",
    "clay = \"C:/Users/sarahann.USERS/Desktop/code/ks_agro_climate/clay_ks_clip.tif\""
   ]
  },
  {
   "cell_type": "code",
   "execution_count": 11,
   "id": "279db83d-52cd-49f4-99ed-8a1d2d125aff",
   "metadata": {},
   "outputs": [],
   "source": [
    "# Function to open each file, and save to a vector data format/shape file\n",
    "def vec2rast (path, string):\n",
    "    prism_ds = gdal.Open(path)                      \n",
    "    band = prism_ds.GetRasterBand(1)\n",
    "    dst_layername = string\n",
    "    drv = ogr.GetDriverByName('ESRI Shapefile')\n",
    "\n",
    "    # customer out path, and file name\n",
    "    outfile = drv.CreateDataSource(r'C:/Users/sarahann.USERS/Desktop/code/ks_agro_climate/'+ string +'.shp') \n",
    "    outlayer = outfile.CreateLayer('polygonized raster', srs = None )  \n",
    "    newField = ogr.FieldDefn(string, ogr.OFTReal)            #custom variable name\n",
    "    outlayer.CreateField(newField)\n",
    "\n",
    "    gdal.Polygonize(band, None, outlayer, 0, [])\n",
    "    outfile = None"
   ]
  },
  {
   "cell_type": "code",
   "execution_count": 14,
   "id": "8f9b3228-83f9-4f1c-8b38-3933945a4b73",
   "metadata": {},
   "outputs": [],
   "source": [
    "# Run Function for each raster and save as a shape file\n",
    "vec2rast(elv,'elevation')\n",
    "vec2rast(elv_4km,'elevation_4km')\n",
    "vec2rast(temp,'temp')\n",
    "vec2rast(precip,'precip')\n",
    "vec2rast(paws_050,'paws_050') \n",
    "vec2rast(om_kg_sq_m, 'om_kg_sq_m')\n",
    "vec2rast(sand, 'sand')\n",
    "vec2rast(silt, 'silt')\n",
    "vec2rast(clay, 'clay')"
   ]
  },
  {
   "cell_type": "markdown",
   "id": "8a9622bd-b735-4638-b129-df9b6ee9d0be",
   "metadata": {},
   "source": [
    "**Read each shape file (vector), and downscale to common geometry polygons**"
   ]
  },
  {
   "cell_type": "code",
   "execution_count": 15,
   "id": "103aaab9-5702-4d63-b2a0-e94f919f785b",
   "metadata": {},
   "outputs": [],
   "source": [
    "# Function to open each file, read as a geopandas and set to commmon crs\n",
    "variable_list = ['elevation', 'temp','precip','paws_050','om_kg_sq_m', 'sand', 'silt', 'clay',]\n",
    "\n",
    "ks_variable = []\n",
    "\n",
    "for string in variable_list:\n",
    "    x = gpd.read_file('C:/Users/sarahann.USERS/Desktop/code/ks_agro_climate/'+string+'.shp')\n",
    "    x.set_crs(epsg=5070, inplace=True) # using a metric unit and not a degree unit for geopandas calculations. #4328\n",
    "    x.to_crs(epsg=5070)  \n",
    "    x = x[x[string] >= -9000] # this drops all nan values which are set to -9999\n",
    "    ks_variable.append(x) "
   ]
  },
  {
   "cell_type": "code",
   "execution_count": 16,
   "id": "b79a70d6-f18b-4d3e-b601-89ad91d3b38d",
   "metadata": {},
   "outputs": [
    {
     "data": {
      "text/plain": [
       "5070"
      ]
     },
     "execution_count": 16,
     "metadata": {},
     "output_type": "execute_result"
    }
   ],
   "source": [
    "ks_variable[2].crs.to_epsg()"
   ]
  },
  {
   "cell_type": "code",
   "execution_count": 17,
   "id": "dd34d5cb-8908-439f-9a3c-dd79f1f88e60",
   "metadata": {},
   "outputs": [
    {
     "name": "stdout",
     "output_type": "stream",
     "text": [
      "256676\n",
      "459\n",
      "100208\n",
      "49282\n",
      "205321\n",
      "215428\n",
      "214277\n",
      "182876\n"
     ]
    }
   ],
   "source": [
    "# Determine the finest geometrical grid by printing geometry count for each geopandas \n",
    "for i in ks_variable:\n",
    "    print(i.geometry.count())"
   ]
  },
  {
   "cell_type": "code",
   "execution_count": 18,
   "id": "7df75f1a-bc4f-4944-a3ce-055045e9717c",
   "metadata": {},
   "outputs": [
    {
     "name": "stdout",
     "output_type": "stream",
     "text": [
      "The Variables in order of the list are:\n",
      "['elevation']\n",
      "['temp']\n",
      "['precip']\n",
      "['paws_050']\n",
      "['om_kg_sq_m']\n",
      "['sand']\n",
      "['silt']\n",
      "['clay']\n"
     ]
    }
   ],
   "source": [
    "print('The Variables in order of the list are:')\n",
    "for i in ks_variable:\n",
    "    print([i.columns[0]])"
   ]
  },
  {
   "cell_type": "markdown",
   "id": "b2bd7079-88c0-4802-892b-5f8e37f70518",
   "metadata": {},
   "source": [
    "**Interpolation with Tobler**\n",
    "1. The variables of precipitation, temperature, PAWS, and organic matter are interpolated as extensive values, under the assumption that only areas for intersected features are utilized. \n",
    "2. The variables of texture for 0-25cm, and 25-50cm are calculated as categorical variables with final value selected on the high percent represented value in the polygon. \n",
    "3. Documentation for Tobler https://pysal.org/tobler/generated/tobler.area_weighted.area_interpolate.html#tobler.area_weighted.area_interpolate\n",
    "4. A great explaination on interpolation methods is found here https://slu-opengis.github.io/areal/articles/areal-weighted-interpolation.html#extensive-and-intensive-interpolations-1"
   ]
  },
  {
   "cell_type": "code",
   "execution_count": 19,
   "id": "894a13c1-f4b1-42ff-9597-465b64bc5e3a",
   "metadata": {},
   "outputs": [],
   "source": [
    "# Interpolate every variable to the same geometry as the elevation file (266147 unique polygons)\n",
    "ks_variable_interp= []\n",
    "\n",
    "for i in range(len(ks_variable)): # the first geo df is elevation and has the finest scale of geometries, so range count will start at 1 instead of 0 \n",
    "    x = area_interpolate(source_df=ks_variable[i],target_df=ks_variable[0], intensive_variables=[ks_variable[i].columns[0]]) \n",
    "    ks_variable_interp.append(x)"
   ]
  },
  {
   "cell_type": "code",
   "execution_count": 20,
   "id": "7fe58f96-f879-4151-9f70-052893944976",
   "metadata": {},
   "outputs": [
    {
     "data": {
      "text/plain": [
       "Index(['om_kg_sq_m', 'geometry'], dtype='object')"
      ]
     },
     "execution_count": 20,
     "metadata": {},
     "output_type": "execute_result"
    }
   ],
   "source": [
    "# Look at the unique columns for the texture \n",
    "ks_variable_interp[4].columns.unique()"
   ]
  },
  {
   "cell_type": "code",
   "execution_count": 21,
   "id": "3243a4dc-4d3e-4b7b-8d77-556f7af70ee5",
   "metadata": {},
   "outputs": [
    {
     "data": {
      "text/html": [
       "<div>\n",
       "<style scoped>\n",
       "    .dataframe tbody tr th:only-of-type {\n",
       "        vertical-align: middle;\n",
       "    }\n",
       "\n",
       "    .dataframe tbody tr th {\n",
       "        vertical-align: top;\n",
       "    }\n",
       "\n",
       "    .dataframe thead th {\n",
       "        text-align: right;\n",
       "    }\n",
       "</style>\n",
       "<table border=\"1\" class=\"dataframe\">\n",
       "  <thead>\n",
       "    <tr style=\"text-align: right;\">\n",
       "      <th></th>\n",
       "      <th>temp</th>\n",
       "    </tr>\n",
       "  </thead>\n",
       "  <tbody>\n",
       "    <tr>\n",
       "      <th>count</th>\n",
       "      <td>459.000000</td>\n",
       "    </tr>\n",
       "    <tr>\n",
       "      <th>mean</th>\n",
       "      <td>12.697168</td>\n",
       "    </tr>\n",
       "    <tr>\n",
       "      <th>std</th>\n",
       "      <td>1.043703</td>\n",
       "    </tr>\n",
       "    <tr>\n",
       "      <th>min</th>\n",
       "      <td>11.000000</td>\n",
       "    </tr>\n",
       "    <tr>\n",
       "      <th>25%</th>\n",
       "      <td>12.000000</td>\n",
       "    </tr>\n",
       "    <tr>\n",
       "      <th>50%</th>\n",
       "      <td>13.000000</td>\n",
       "    </tr>\n",
       "    <tr>\n",
       "      <th>75%</th>\n",
       "      <td>13.000000</td>\n",
       "    </tr>\n",
       "    <tr>\n",
       "      <th>max</th>\n",
       "      <td>15.000000</td>\n",
       "    </tr>\n",
       "  </tbody>\n",
       "</table>\n",
       "</div>"
      ],
      "text/plain": [
       "             temp\n",
       "count  459.000000\n",
       "mean    12.697168\n",
       "std      1.043703\n",
       "min     11.000000\n",
       "25%     12.000000\n",
       "50%     13.000000\n",
       "75%     13.000000\n",
       "max     15.000000"
      ]
     },
     "execution_count": 21,
     "metadata": {},
     "output_type": "execute_result"
    }
   ],
   "source": [
    "ks_variable[1].describe()"
   ]
  },
  {
   "cell_type": "code",
   "execution_count": 22,
   "id": "6be189a4-3fa6-489b-a225-33d2c9316782",
   "metadata": {},
   "outputs": [],
   "source": [
    "#Merge all files in the data frame\n",
    "merge_df=reduce(lambda x, y: pd.merge(x, y, on = 'geometry'), ks_variable_interp)"
   ]
  },
  {
   "cell_type": "code",
   "execution_count": 23,
   "id": "f46d200b-4692-4258-9340-09e43754b706",
   "metadata": {},
   "outputs": [
    {
     "data": {
      "text/html": [
       "<div>\n",
       "<style scoped>\n",
       "    .dataframe tbody tr th:only-of-type {\n",
       "        vertical-align: middle;\n",
       "    }\n",
       "\n",
       "    .dataframe tbody tr th {\n",
       "        vertical-align: top;\n",
       "    }\n",
       "\n",
       "    .dataframe thead th {\n",
       "        text-align: right;\n",
       "    }\n",
       "</style>\n",
       "<table border=\"1\" class=\"dataframe\">\n",
       "  <thead>\n",
       "    <tr style=\"text-align: right;\">\n",
       "      <th></th>\n",
       "      <th>elevation</th>\n",
       "      <th>geometry</th>\n",
       "      <th>temp</th>\n",
       "      <th>precip</th>\n",
       "      <th>paws_050</th>\n",
       "      <th>om_kg_sq_m</th>\n",
       "      <th>sand</th>\n",
       "      <th>silt</th>\n",
       "      <th>clay</th>\n",
       "    </tr>\n",
       "  </thead>\n",
       "  <tbody>\n",
       "    <tr>\n",
       "      <th>0</th>\n",
       "      <td>1048.0</td>\n",
       "      <td>POLYGON ((-511701.775 1903862.765, -510950.491...</td>\n",
       "      <td>11.0</td>\n",
       "      <td>462.999959</td>\n",
       "      <td>10.999999</td>\n",
       "      <td>13.999999</td>\n",
       "      <td>15.999999</td>\n",
       "      <td>63.999996</td>\n",
       "      <td>20.999999</td>\n",
       "    </tr>\n",
       "    <tr>\n",
       "      <th>1</th>\n",
       "      <td>1059.0</td>\n",
       "      <td>POLYGON ((-510950.491 1903862.765, -510199.207...</td>\n",
       "      <td>11.0</td>\n",
       "      <td>461.999980</td>\n",
       "      <td>10.200312</td>\n",
       "      <td>11.600936</td>\n",
       "      <td>36.791890</td>\n",
       "      <td>48.006241</td>\n",
       "      <td>15.402184</td>\n",
       "    </tr>\n",
       "    <tr>\n",
       "      <th>2</th>\n",
       "      <td>1028.0</td>\n",
       "      <td>POLYGON ((-510199.207 1903862.765, -509447.923...</td>\n",
       "      <td>11.0</td>\n",
       "      <td>460.999980</td>\n",
       "      <td>9.952817</td>\n",
       "      <td>13.037917</td>\n",
       "      <td>41.436857</td>\n",
       "      <td>44.328141</td>\n",
       "      <td>13.974322</td>\n",
       "    </tr>\n",
       "    <tr>\n",
       "      <th>3</th>\n",
       "      <td>1035.0</td>\n",
       "      <td>POLYGON ((-511701.775 1903111.481, -510950.491...</td>\n",
       "      <td>11.0</td>\n",
       "      <td>462.000000</td>\n",
       "      <td>11.000000</td>\n",
       "      <td>14.585402</td>\n",
       "      <td>12.487594</td>\n",
       "      <td>66.341609</td>\n",
       "      <td>21.585402</td>\n",
       "    </tr>\n",
       "    <tr>\n",
       "      <th>4</th>\n",
       "      <td>1025.0</td>\n",
       "      <td>POLYGON ((-510950.491 1903111.481, -510199.207...</td>\n",
       "      <td>11.0</td>\n",
       "      <td>462.000000</td>\n",
       "      <td>9.419477</td>\n",
       "      <td>12.653916</td>\n",
       "      <td>36.736107</td>\n",
       "      <td>47.196245</td>\n",
       "      <td>16.109182</td>\n",
       "    </tr>\n",
       "  </tbody>\n",
       "</table>\n",
       "</div>"
      ],
      "text/plain": [
       "   elevation                                           geometry  temp  \\\n",
       "0     1048.0  POLYGON ((-511701.775 1903862.765, -510950.491...  11.0   \n",
       "1     1059.0  POLYGON ((-510950.491 1903862.765, -510199.207...  11.0   \n",
       "2     1028.0  POLYGON ((-510199.207 1903862.765, -509447.923...  11.0   \n",
       "3     1035.0  POLYGON ((-511701.775 1903111.481, -510950.491...  11.0   \n",
       "4     1025.0  POLYGON ((-510950.491 1903111.481, -510199.207...  11.0   \n",
       "\n",
       "       precip   paws_050  om_kg_sq_m       sand       silt       clay  \n",
       "0  462.999959  10.999999   13.999999  15.999999  63.999996  20.999999  \n",
       "1  461.999980  10.200312   11.600936  36.791890  48.006241  15.402184  \n",
       "2  460.999980   9.952817   13.037917  41.436857  44.328141  13.974322  \n",
       "3  462.000000  11.000000   14.585402  12.487594  66.341609  21.585402  \n",
       "4  462.000000   9.419477   12.653916  36.736107  47.196245  16.109182  "
      ]
     },
     "execution_count": 23,
     "metadata": {},
     "output_type": "execute_result"
    }
   ],
   "source": [
    "merge_df.head()"
   ]
  },
  {
   "cell_type": "code",
   "execution_count": 24,
   "id": "d65c6ba6-a237-437b-b088-7a8c863b18a3",
   "metadata": {},
   "outputs": [
    {
     "data": {
      "text/plain": [
       "256676"
      ]
     },
     "execution_count": 24,
     "metadata": {},
     "output_type": "execute_result"
    }
   ],
   "source": [
    "sum(merge_df.geometry == ks_variable_interp[0].geometry)"
   ]
  },
  {
   "cell_type": "code",
   "execution_count": 25,
   "id": "f02985d7-76a8-405f-96b2-bd600d81447a",
   "metadata": {},
   "outputs": [
    {
     "data": {
      "text/plain": [
       "<AxesSubplot:>"
      ]
     },
     "execution_count": 25,
     "metadata": {},
     "output_type": "execute_result"
    },
    {
     "data": {
      "image/png": "[encoded data removed]",
      "text/plain": [
       "<Figure size 432x288 with 1 Axes>"
      ]
     },
     "metadata": {
      "needs_background": "light"
     },
     "output_type": "display_data"
    }
   ],
   "source": [
    "merge_df.plot()"
   ]
  },
  {
   "cell_type": "code",
   "execution_count": 26,
   "id": "78c93cb4-db5f-4a02-b08f-1a47c5a83dcb",
   "metadata": {},
   "outputs": [
    {
     "data": {
      "text/plain": [
       "<AxesSubplot:>"
      ]
     },
     "execution_count": 26,
     "metadata": {},
     "output_type": "execute_result"
    },
    {
     "data": {
      "image/png": "[encoded data removed]",
      "text/plain": [
       "<Figure size 432x288 with 1 Axes>"
      ]
     },
     "metadata": {
      "needs_background": "light"
     },
     "output_type": "display_data"
    }
   ],
   "source": [
    "ks_map.plot()"
   ]
  },
  {
   "cell_type": "code",
   "execution_count": 27,
   "id": "08497b10-47f6-40c5-b10e-ac3dfd49540e",
   "metadata": {},
   "outputs": [
    {
     "data": {
      "text/plain": [
       "True"
      ]
     },
     "execution_count": 27,
     "metadata": {},
     "output_type": "execute_result"
    }
   ],
   "source": [
    "merge_df.crs == ks_map.crs"
   ]
  },
  {
   "cell_type": "code",
   "execution_count": 28,
   "id": "7fffd476-d082-495f-92e3-91c999b08da4",
   "metadata": {},
   "outputs": [],
   "source": [
    "ks_variables=gpd.overlay(merge_df, ks_map,  how='intersection')  "
   ]
  },
  {
   "cell_type": "code",
   "execution_count": 29,
   "id": "72a37988-885a-44fa-90ec-2097604273e7",
   "metadata": {},
   "outputs": [],
   "source": [
    "ks_variables=ks_variables.drop(columns=['STATEFP', 'STATENS', 'AFFGEOID', 'GEOID', 'STUSPS', 'NAME', 'LSAD','ALAND', 'AWATER'])\n",
    "ks_variables=ks_variables.dropna() # three nan values for soil texture"
   ]
  },
  {
   "cell_type": "code",
   "execution_count": 30,
   "id": "8e1c2a7c-fae6-4250-a2f2-bc892c954a81",
   "metadata": {},
   "outputs": [
    {
     "name": "stdout",
     "output_type": "stream",
     "text": [
      "           elevation           temp         precip       paws_050  \\\n",
      "count  256676.000000  256676.000000  256676.000000  256676.000000   \n",
      "mean      575.574635      12.635170     748.672351       8.727883   \n",
      "std       248.823921       0.978884     201.850873       1.387318   \n",
      "min       214.000000      10.999999     428.999973       0.000000   \n",
      "25%       376.000000      12.000000     568.000032       7.971573   \n",
      "50%       492.000000      13.000000     728.999999       8.995296   \n",
      "75%       763.000000      13.000000     918.000026      10.000000   \n",
      "max      1226.000000      15.000000    1207.000000      13.000000   \n",
      "\n",
      "          om_kg_sq_m           sand           silt           clay  \n",
      "count  256676.000000  256676.000000  256676.000000  256676.000000  \n",
      "mean       20.262829      21.048089      50.037178      28.901962  \n",
      "std         6.008277      18.323511      13.300847       8.887086  \n",
      "min         0.000000       0.000000       0.000000       0.000000  \n",
      "25%        17.039101       9.116569      46.629022      22.705021  \n",
      "50%        19.732349      14.920666      52.224097      27.956171  \n",
      "75%        23.635978      23.592779      59.320843      36.428238  \n",
      "max        69.845949      97.000000      75.666546      60.276055  \n"
     ]
    },
    {
     "data": {
      "text/html": [
       "<div>\n",
       "<style scoped>\n",
       "    .dataframe tbody tr th:only-of-type {\n",
       "        vertical-align: middle;\n",
       "    }\n",
       "\n",
       "    .dataframe tbody tr th {\n",
       "        vertical-align: top;\n",
       "    }\n",
       "\n",
       "    .dataframe thead th {\n",
       "        text-align: right;\n",
       "    }\n",
       "</style>\n",
       "<table border=\"1\" class=\"dataframe\">\n",
       "  <thead>\n",
       "    <tr style=\"text-align: right;\">\n",
       "      <th></th>\n",
       "      <th>elevation</th>\n",
       "      <th>temp</th>\n",
       "      <th>precip</th>\n",
       "      <th>paws_050</th>\n",
       "      <th>om_kg_sq_m</th>\n",
       "      <th>sand</th>\n",
       "      <th>silt</th>\n",
       "      <th>clay</th>\n",
       "      <th>geometry</th>\n",
       "    </tr>\n",
       "  </thead>\n",
       "  <tbody>\n",
       "    <tr>\n",
       "      <th>0</th>\n",
       "      <td>1048.0</td>\n",
       "      <td>11.0</td>\n",
       "      <td>462.999959</td>\n",
       "      <td>10.999999</td>\n",
       "      <td>13.999999</td>\n",
       "      <td>15.999999</td>\n",
       "      <td>63.999996</td>\n",
       "      <td>20.999999</td>\n",
       "      <td>POLYGON ((-510950.491 1903111.481, -511701.775...</td>\n",
       "    </tr>\n",
       "    <tr>\n",
       "      <th>1</th>\n",
       "      <td>1059.0</td>\n",
       "      <td>11.0</td>\n",
       "      <td>461.999980</td>\n",
       "      <td>10.200312</td>\n",
       "      <td>11.600936</td>\n",
       "      <td>36.791890</td>\n",
       "      <td>48.006241</td>\n",
       "      <td>15.402184</td>\n",
       "      <td>POLYGON ((-510199.207 1903111.481, -510950.491...</td>\n",
       "    </tr>\n",
       "    <tr>\n",
       "      <th>2</th>\n",
       "      <td>1028.0</td>\n",
       "      <td>11.0</td>\n",
       "      <td>460.999980</td>\n",
       "      <td>9.952817</td>\n",
       "      <td>13.037917</td>\n",
       "      <td>41.436857</td>\n",
       "      <td>44.328141</td>\n",
       "      <td>13.974322</td>\n",
       "      <td>POLYGON ((-509447.923 1902360.198, -510199.207...</td>\n",
       "    </tr>\n",
       "    <tr>\n",
       "      <th>3</th>\n",
       "      <td>1035.0</td>\n",
       "      <td>11.0</td>\n",
       "      <td>462.000000</td>\n",
       "      <td>11.000000</td>\n",
       "      <td>14.585402</td>\n",
       "      <td>12.487594</td>\n",
       "      <td>66.341609</td>\n",
       "      <td>21.585402</td>\n",
       "      <td>POLYGON ((-510950.491 1903111.481, -510950.491...</td>\n",
       "    </tr>\n",
       "    <tr>\n",
       "      <th>4</th>\n",
       "      <td>1025.0</td>\n",
       "      <td>11.0</td>\n",
       "      <td>462.000000</td>\n",
       "      <td>9.419477</td>\n",
       "      <td>12.653916</td>\n",
       "      <td>36.736107</td>\n",
       "      <td>47.196245</td>\n",
       "      <td>16.109182</td>\n",
       "      <td>POLYGON ((-510199.207 1903111.481, -510199.207...</td>\n",
       "    </tr>\n",
       "  </tbody>\n",
       "</table>\n",
       "</div>"
      ],
      "text/plain": [
       "   elevation  temp      precip   paws_050  om_kg_sq_m       sand       silt  \\\n",
       "0     1048.0  11.0  462.999959  10.999999   13.999999  15.999999  63.999996   \n",
       "1     1059.0  11.0  461.999980  10.200312   11.600936  36.791890  48.006241   \n",
       "2     1028.0  11.0  460.999980   9.952817   13.037917  41.436857  44.328141   \n",
       "3     1035.0  11.0  462.000000  11.000000   14.585402  12.487594  66.341609   \n",
       "4     1025.0  11.0  462.000000   9.419477   12.653916  36.736107  47.196245   \n",
       "\n",
       "        clay                                           geometry  \n",
       "0  20.999999  POLYGON ((-510950.491 1903111.481, -511701.775...  \n",
       "1  15.402184  POLYGON ((-510199.207 1903111.481, -510950.491...  \n",
       "2  13.974322  POLYGON ((-509447.923 1902360.198, -510199.207...  \n",
       "3  21.585402  POLYGON ((-510950.491 1903111.481, -510950.491...  \n",
       "4  16.109182  POLYGON ((-510199.207 1903111.481, -510199.207...  "
      ]
     },
     "execution_count": 30,
     "metadata": {},
     "output_type": "execute_result"
    }
   ],
   "source": [
    "print(ks_variables.describe())\n",
    "ks_variables.head(5)"
   ]
  },
  {
   "cell_type": "code",
   "execution_count": 31,
   "id": "5dfe5852-5c9a-49bb-9ac1-7924cc677bab",
   "metadata": {},
   "outputs": [
    {
     "data": {
      "text/plain": [
       "<AxesSubplot:>"
      ]
     },
     "execution_count": 31,
     "metadata": {},
     "output_type": "execute_result"
    },
    {
     "data": {
      "image/png": "[encoded data removed]",
      "text/plain": [
       "<Figure size 432x288 with 1 Axes>"
      ]
     },
     "metadata": {
      "needs_background": "light"
     },
     "output_type": "display_data"
    }
   ],
   "source": [
    "ks_variables.plot()"
   ]
  },
  {
   "cell_type": "code",
   "execution_count": 32,
   "id": "ccaea1a2-ad64-4720-9ee0-e1155984b5b3",
   "metadata": {},
   "outputs": [],
   "source": [
    "#Export Data as a CSV and shape files\n",
    "ks_variables.to_csv('ks_variables.csv')\n",
    "ks_variables.to_file('ks_variables.shape')"
   ]
  }
 ],
 "metadata": {
  "kernelspec": {
   "display_name": "Python 3",
   "language": "python",
   "name": "python3"
  },
  "language_info": {
   "codemirror_mode": {
    "name": "ipython",
    "version": 3
   },
   "file_extension": ".py",
   "mimetype": "text/x-python",
   "name": "python",
   "nbconvert_exporter": "python",
   "pygments_lexer": "ipython3",
   "version": "3.8.8"
  }
 },
 "nbformat": 4,
 "nbformat_minor": 5
}
